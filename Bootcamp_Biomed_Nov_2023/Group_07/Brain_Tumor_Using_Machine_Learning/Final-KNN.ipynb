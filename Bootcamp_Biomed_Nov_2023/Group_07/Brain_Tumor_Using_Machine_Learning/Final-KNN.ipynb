{
 "cells": [
  {
   "cell_type": "code",
   "execution_count": 50,
   "id": "23649d33",
   "metadata": {},
   "outputs": [],
   "source": [
    "import cv2\n",
    "import numpy as np\n",
    "import pandas as pd\n",
    "from scipy import stats  # Import scipy's stats module for mode calculation\n",
    "import matplotlib.pyplot as plt\n",
    "import seaborn as sns\n",
    "from sklearn.preprocessing import StandardScaler\n",
    "from sklearn.neighbors import KNeighborsClassifier\n",
    "\n",
    "ss = StandardScaler()\n",
    "knn = KNeighborsClassifier(n_neighbors = 1, p = 2, metric = 'euclidean')\n",
    "df = pd.read_csv('Brain_Disorders.csv')\n",
    "x = df.iloc[:, 0:6]\n",
    "y = df.iloc[:, 6]\n",
    "x = ss.fit_transform(x)\n",
    "model = knn.fit(x, y)"
   ]
  },
  {
   "cell_type": "code",
   "execution_count": 54,
   "id": "c3907611",
   "metadata": {},
   "outputs": [
    {
     "name": "stdout",
     "output_type": "stream",
     "text": [
      "[4]\n",
      "Glioma\n"
     ]
    }
   ],
   "source": [
    "# Set the path to the single preprocessed image\n",
    "imagePath = r\"C:\\Users\\Radhakrishnan P\\Downloads\\archive (8)\\Testing\\notumor\\Te-no_0369.jpg\"\n",
    "\n",
    "# Read the preprocessed image\n",
    "img = cv2.imread(imagePath, cv2.IMREAD_GRAYSCALE)  # Load as grayscale\n",
    "\n",
    "# Extract features from the image (mean, median, mode, standard deviation, skewness, and kurtosis)\n",
    "mode_result = stats.mode(img, axis=None, keepdims=True)\n",
    "featureVector = [\n",
    "    np.mean(img),\n",
    "    np.median(img),\n",
    "    float(mode_result[0]),  # Mode calculation\n",
    "    np.std(img),\n",
    "    np.nan_to_num(np.float64(stats.skew(img.flatten()))),\n",
    "    np.nan_to_num(np.float64(stats.kurtosis(img.flatten())))\n",
    "]\n",
    "\n",
    "# Define the header for the CSV file\n",
    "header = ['Mean', 'Median', 'Mode', 'StandardDeviation', 'Skewness', 'Kurtosis']  # Update with your actual feature names\n",
    "\n",
    "# Create a Pandas DataFrame with the features\n",
    "features_df = pd.DataFrame([featureVector], columns=header)\n",
    "\n",
    "a = features_df\n",
    "a = ss.fit_transform(a)\n",
    "\n",
    "y_pred = model.predict(a)\n",
    "print(y_pred)\n",
    "if(y_pred == [1]):\n",
    "    print('Pituitary')\n",
    "if(y_pred == [2]):\n",
    "    print('No Tumor')\n",
    "if(y_pred == [3]):\n",
    "    print('Meningioma')\n",
    "if(y_pred == [4]):\n",
    "    print('Glioma')"
   ]
  },
  {
   "cell_type": "code",
   "execution_count": null,
   "id": "9f2a2eb8",
   "metadata": {},
   "outputs": [],
   "source": []
  }
 ],
 "metadata": {
  "kernelspec": {
   "display_name": "Python 3 (ipykernel)",
   "language": "python",
   "name": "python3"
  },
  "language_info": {
   "codemirror_mode": {
    "name": "ipython",
    "version": 3
   },
   "file_extension": ".py",
   "mimetype": "text/x-python",
   "name": "python",
   "nbconvert_exporter": "python",
   "pygments_lexer": "ipython3",
   "version": "3.10.9"
  }
 },
 "nbformat": 4,
 "nbformat_minor": 5
}
