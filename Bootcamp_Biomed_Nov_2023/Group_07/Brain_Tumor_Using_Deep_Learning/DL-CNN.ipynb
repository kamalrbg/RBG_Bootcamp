{
 "cells": [
  {
   "cell_type": "code",
   "execution_count": 1,
   "metadata": {
    "id": "6bwXQ7uzoads"
   },
   "outputs": [],
   "source": [
    "import numpy as np\n",
    "import pandas as pd\n",
    "import os\n",
    "from os import listdir\n",
    "import tensorflow as tf\n",
    "from keras.preprocessing.image import ImageDataGenerator\n",
    "import cv2\n",
    "import matplotlib.pyplot as plt\n",
    "%matplotlib inline\n",
    "import imutils\n",
    "\n",
    "from tensorflow.keras.models import Model,load_model\n",
    "from tensorflow.keras.layers import Conv2D,Input,ZeroPadding2D,BatchNormalization,Flatten,Activation,Dense,MaxPooling2D\n",
    "from sklearn.model_selection import train_test_split\n",
    "from sklearn.utils import shuffle #shuffling the data improves the model"
   ]
  },
  {
   "cell_type": "code",
   "execution_count": 3,
   "metadata": {
    "id": "5b3ujZ5Fw3kJ"
   },
   "outputs": [],
   "source": [
    "import cv2\n",
    "import numpy as np\n",
    "from os import listdir\n",
    "from sklearn.utils import shuffle\n",
    "\n",
    "def load_data(dir_list, image_size):\n",
    "\n",
    "    # Load all images in the directories\n",
    "    X = []\n",
    "    y = []\n",
    "    image_width, image_height = image_size\n",
    "\n",
    "    for label, directory in enumerate(dir_list, start=1):\n",
    "        for filename in listdir(directory):\n",
    "            image = cv2.imread(directory+'/'+filename)\n",
    "            image = crop_brain_contour(image, plot=False)\n",
    "            image = cv2.resize(image, dsize=(image_width, image_height), interpolation=cv2.INTER_CUBIC)\n",
    "            # Normalize values\n",
    "            image = image / 255.\n",
    "            # Convert image to a numpy array and append it to X\n",
    "            X.append(image)\n",
    "            # Append the corresponding label to y\n",
    "            y.append(label)\n",
    "\n",
    "    X = np.array(X)\n",
    "    y = np.array(y)\n",
    "\n",
    "    # Shuffle the data\n",
    "    X, y = shuffle(X, y)\n",
    "\n",
    "    print(f'Number of examples is: {len(X)}')\n",
    "    print(f'X shape is: {X.shape}')\n",
    "    print(f'y shape is: {y.shape}')\n",
    "\n",
    "    return X, y\n"
   ]
  },
  {
   "cell_type": "code",
   "execution_count": 4,
   "metadata": {
    "colab": {
     "base_uri": "https://localhost:8080/",
     "height": 210
    },
    "id": "sp558dBcsZ5r",
    "outputId": "8a34062c-d64e-4fef-fa0f-7d2ddaa35f5b"
   },
   "outputs": [
    {
     "name": "stdout",
     "output_type": "stream",
     "text": [
      "Number of examples is: 5712\n",
      "X shape is: (5712, 240, 240, 3)\n",
      "y shape is: (5712,)\n"
     ]
    }
   ],
   "source": [
    "pit = r'C:\\Users\\gfox6\\Downloads\\archive\\Training\\pituitary'\n",
    "men = r'C:\\Users\\gfox6\\Downloads\\archive\\Training\\meningioma'\n",
    "notu = r'C:\\Users\\gfox6\\Downloads\\archive\\Training\\notumor'\n",
    "gli = r'C:\\Users\\gfox6\\Downloads\\archive\\Training\\glioma'\n",
    "\n",
    "IMG_WIDTH, IMG_HEIGHT = (240, 240)\n",
    "\n",
    "X, y = load_data([gli, men, notu, pit], (IMG_WIDTH, IMG_HEIGHT))"
   ]
  },
  {
   "cell_type": "code",
   "execution_count": 150,
   "metadata": {},
   "outputs": [],
   "source": [
    "X1=X[:1000]\n",
    "y1=y[:1000]"
   ]
  },
  {
   "cell_type": "code",
   "execution_count": 151,
   "metadata": {},
   "outputs": [],
   "source": [
    "def split_data(X, y, test_size=0.2):\n",
    "       \n",
    "    X_train, X_test_val, y_train, y_test_val = train_test_split(X, y, test_size=test_size)\n",
    "    X_test, X_val, y_test, y_val = train_test_split(X_test_val, y_test_val, test_size=0.5)\n",
    "    \n",
    "    return X_train, y_train, X_val, y_val, X_test, y_test"
   ]
  },
  {
   "cell_type": "code",
   "execution_count": 152,
   "metadata": {},
   "outputs": [],
   "source": [
    "X_train, y_train, X_val, y_val, X_test, y_test = split_data(X1, y1, test_size=0.3)"
   ]
  },
  {
   "cell_type": "code",
   "execution_count": 153,
   "metadata": {},
   "outputs": [
    {
     "name": "stdout",
     "output_type": "stream",
     "text": [
      "number of training examples = 700\n",
      "number of validation examples = 150\n",
      "number of test examples = 150\n"
     ]
    }
   ],
   "source": [
    "print (\"number of training examples = \" + str(X_train.shape[0]))\n",
    "print (\"number of validation examples = \" + str(X_val.shape[0]))\n",
    "print (\"number of test examples = \" + str(X_test.shape[0]))"
   ]
  },
  {
   "cell_type": "code",
   "execution_count": 154,
   "metadata": {},
   "outputs": [
    {
     "name": "stdout",
     "output_type": "stream",
     "text": [
      "Model: \"model_5\"\n",
      "_________________________________________________________________\n",
      " Layer (type)                Output Shape              Param #   \n",
      "=================================================================\n",
      " input_6 (InputLayer)        [(None, 240, 240, 3)]     0         \n",
      "                                                                 \n",
      " zero_padding2d_5 (ZeroPadd  (None, 244, 244, 3)       0         \n",
      " ing2D)                                                          \n",
      "                                                                 \n",
      " conv2d_5 (Conv2D)           (None, 238, 238, 32)      4736      \n",
      "                                                                 \n",
      " bn0 (BatchNormalization)    (None, 238, 238, 32)      128       \n",
      "                                                                 \n",
      " activation_5 (Activation)   (None, 238, 238, 32)      0         \n",
      "                                                                 \n",
      " max_pooling2d_10 (MaxPooli  (None, 59, 59, 32)        0         \n",
      " ng2D)                                                           \n",
      "                                                                 \n",
      " max_pooling2d_11 (MaxPooli  (None, 14, 14, 32)        0         \n",
      " ng2D)                                                           \n",
      "                                                                 \n",
      " flatten_5 (Flatten)         (None, 6272)              0         \n",
      "                                                                 \n",
      " dense_5 (Dense)             (None, 5)                 31365     \n",
      "                                                                 \n",
      "=================================================================\n",
      "Total params: 36229 (141.52 KB)\n",
      "Trainable params: 36165 (141.27 KB)\n",
      "Non-trainable params: 64 (256.00 Byte)\n",
      "_________________________________________________________________\n"
     ]
    }
   ],
   "source": [
    "def build_model(input_shape, num_classes=5):\n",
    "    X_input = Input(input_shape)\n",
    "    X = ZeroPadding2D((2, 2))(X_input)\n",
    "\n",
    "    X = Conv2D(32, (7, 7), strides=(1, 1))(X)\n",
    "    X = BatchNormalization(axis=3, name='bn0')(X)\n",
    "    X = Activation('relu')(X)\n",
    "\n",
    "    X = MaxPooling2D((4, 4))(X)\n",
    "    X = MaxPooling2D((4, 4))(X)\n",
    "    X = Flatten()(X)\n",
    "    X = Dense(num_classes, activation='softmax')(X)  # Use softmax activation for multi-class classification\n",
    "    model = Model(inputs=X_input, outputs=X)\n",
    "\n",
    "    return model\n",
    "\n",
    "IMG_SHAPE = (IMG_WIDTH, IMG_HEIGHT, 3)\n",
    "model = build_model(IMG_SHAPE, num_classes=5)\n",
    "model.summary()\n"
   ]
  },
  {
   "cell_type": "code",
   "execution_count": 155,
   "metadata": {},
   "outputs": [],
   "source": [
    "model.compile(optimizer='adam', loss='sparse_categorical_crossentropy', metrics=['accuracy'])"
   ]
  },
  {
   "cell_type": "code",
   "execution_count": 156,
   "metadata": {},
   "outputs": [
    {
     "name": "stdout",
     "output_type": "stream",
     "text": [
      "Epoch 1/15\n",
      "140/140 [==============================] - 31s 214ms/step - loss: 1.6229 - accuracy: 0.5400 - val_loss: 1.2753 - val_accuracy: 0.5267\n",
      "Epoch 2/15\n",
      "140/140 [==============================] - 27s 194ms/step - loss: 0.9417 - accuracy: 0.7014 - val_loss: 1.0270 - val_accuracy: 0.7000\n",
      "Epoch 3/15\n",
      "140/140 [==============================] - 27s 194ms/step - loss: 1.0466 - accuracy: 0.7100 - val_loss: 1.7566 - val_accuracy: 0.6467\n",
      "Epoch 4/15\n",
      "140/140 [==============================] - 28s 201ms/step - loss: 0.7832 - accuracy: 0.7714 - val_loss: 1.2070 - val_accuracy: 0.7333\n",
      "Epoch 5/15\n",
      "140/140 [==============================] - 27s 194ms/step - loss: 0.5793 - accuracy: 0.8043 - val_loss: 1.3188 - val_accuracy: 0.6600\n",
      "Epoch 6/15\n",
      "140/140 [==============================] - 27s 193ms/step - loss: 0.5111 - accuracy: 0.8214 - val_loss: 1.3652 - val_accuracy: 0.7067\n",
      "Epoch 7/15\n",
      "140/140 [==============================] - 27s 192ms/step - loss: 0.5146 - accuracy: 0.8271 - val_loss: 1.3358 - val_accuracy: 0.7000\n",
      "Epoch 8/15\n",
      "140/140 [==============================] - 27s 194ms/step - loss: 0.4088 - accuracy: 0.8657 - val_loss: 1.4238 - val_accuracy: 0.7467\n",
      "Epoch 9/15\n",
      "140/140 [==============================] - 27s 193ms/step - loss: 0.2243 - accuracy: 0.9043 - val_loss: 1.2068 - val_accuracy: 0.7133\n",
      "Epoch 10/15\n",
      "140/140 [==============================] - 27s 194ms/step - loss: 0.2124 - accuracy: 0.9243 - val_loss: 1.6100 - val_accuracy: 0.7067\n",
      "Epoch 11/15\n",
      "140/140 [==============================] - 27s 192ms/step - loss: 0.3666 - accuracy: 0.8786 - val_loss: 1.9261 - val_accuracy: 0.6600\n",
      "Epoch 12/15\n",
      "140/140 [==============================] - 28s 198ms/step - loss: 0.5456 - accuracy: 0.8571 - val_loss: 1.8353 - val_accuracy: 0.6933\n",
      "Epoch 13/15\n",
      "140/140 [==============================] - 27s 192ms/step - loss: 0.1874 - accuracy: 0.9314 - val_loss: 1.3018 - val_accuracy: 0.7733\n",
      "Epoch 14/15\n",
      "140/140 [==============================] - 27s 191ms/step - loss: 0.1084 - accuracy: 0.9571 - val_loss: 1.2514 - val_accuracy: 0.7800\n",
      "Epoch 15/15\n",
      "140/140 [==============================] - 28s 203ms/step - loss: 0.2357 - accuracy: 0.9143 - val_loss: 1.9402 - val_accuracy: 0.7067\n"
     ]
    },
    {
     "data": {
      "text/plain": [
       "<keras.src.callbacks.History at 0x18703321310>"
      ]
     },
     "execution_count": 156,
     "metadata": {},
     "output_type": "execute_result"
    }
   ],
   "source": [
    "model.fit(x=X_train, y=y_train, batch_size=5, epochs=15, validation_data=(X_val, y_val))"
   ]
  },
  {
   "cell_type": "code",
   "execution_count": 157,
   "metadata": {},
   "outputs": [],
   "source": [
    "history = model.history.history"
   ]
  },
  {
   "cell_type": "code",
   "execution_count": 158,
   "metadata": {},
   "outputs": [],
   "source": [
    "from sklearn.metrics import confusion_matrix,ConfusionMatrixDisplay"
   ]
  },
  {
   "cell_type": "code",
   "execution_count": 159,
   "metadata": {},
   "outputs": [],
   "source": [
    "#test_labels = test_batches.classes\n",
    "predictions = model.predict(x=X_test, steps=len(y_test), verbose=0)\n",
    "cm = confusion_matrix(y_true=y_test, y_pred=predictions.argmax(axis=1))"
   ]
  },
  {
   "cell_type": "code",
   "execution_count": 160,
   "metadata": {},
   "outputs": [],
   "source": [
    "def plot_confusion_matrix(cm, classes,\n",
    "                          normalize=False,\n",
    "                          title='Confusion matrix',\n",
    "                          cmap=plt.cm.Blues):\n",
    "    \"\"\"\n",
    "    This function prints and plots the confusion matrix.\n",
    "    Normalization can be applied by setting `normalize=True`.\n",
    "    \"\"\"\n",
    "    plt.imshow(cm, interpolation='nearest', cmap=cmap)\n",
    "    plt.title(title)\n",
    "    plt.colorbar()\n",
    "    tick_marks = np.arange(len(classes))\n",
    "    plt.xticks(tick_marks, classes, rotation=45)\n",
    "    plt.yticks(tick_marks, classes)\n",
    "\n",
    "    if normalize:\n",
    "        cm = cm.astype('float') / cm.sum(axis=1)[:, np.newaxis]\n",
    "        print(\"Normalized confusion matrix\")\n",
    "    else:\n",
    "        print('Confusion matrix, without normalization')\n",
    "\n",
    "    print(cm)\n",
    "\n",
    "    thresh = cm.max() / 2.\n",
    "    for i, j in itertools.product(range(cm.shape[0]), range(cm.shape[1])):\n",
    "        plt.text(j, i, cm[i, j],\n",
    "            horizontalalignment=\"center\",\n",
    "            color=\"white\" if cm[i, j] > thresh else \"black\")\n",
    "\n",
    "    plt.tight_layout()\n",
    "    plt.ylabel('True label')\n",
    "    plt.xlabel('Predicted label')"
   ]
  },
  {
   "cell_type": "code",
   "execution_count": 134,
   "metadata": {},
   "outputs": [
    {
     "name": "stdout",
     "output_type": "stream",
     "text": [
      "Confusion matrix, without normalization\n",
      "[[41 10  1  5]\n",
      " [ 4 38  2  2]\n",
      " [ 0  5 55  0]\n",
      " [ 3  5  3 51]]\n"
     ]
    },
    {
     "data": {
      "image/png": "[encoded data removed]",
      "text/plain": [
       "<Figure size 640x480 with 2 Axes>"
      ]
     },
     "metadata": {},
     "output_type": "display_data"
    }
   ],
   "source": [
    "import itertools\n",
    "cm_plot_labels = ['gli', 'men', 'notu', 'pit']\n",
    "plot_confusion_matrix(cm=cm, classes= cm_plot_labels , title='Confusion Matrix')"
   ]
  },
  {
   "cell_type": "code",
   "execution_count": 161,
   "metadata": {},
   "outputs": [
    {
     "name": "stdout",
     "output_type": "stream",
     "text": [
      "              precision    recall  f1-score   support\n",
      "\n",
      "           1       0.65      0.59      0.62        34\n",
      "           2       1.00      0.36      0.53        33\n",
      "           3       0.92      0.98      0.95        48\n",
      "           4       0.62      1.00      0.77        35\n",
      "\n",
      "    accuracy                           0.76       150\n",
      "   macro avg       0.80      0.73      0.72       150\n",
      "weighted avg       0.81      0.76      0.74       150\n",
      "\n"
     ]
    }
   ],
   "source": [
    "from sklearn.metrics import classification_report \n",
    "print(classification_report(y_test,predictions.argmax(axis=1)))\n",
    "from sklearn.metrics import accuracy_score\n",
    "print(accuracy_score(y_test,predictions.argmax(axis=1)))"
   ]
  },
  {
   "cell_type": "code",
   "execution_count": 162,
   "metadata": {},
   "outputs": [
    {
     "name": "stdout",
     "output_type": "stream",
     "text": [
      "0.76\n"
     ]
    }
   ],
   "source": [
    "from sklearn.metrics import accuracy_score\n",
    "print(accuracy_score(y_test,predictions.argmax(axis=1)))"
   ]
  },
  {
   "cell_type": "code",
   "execution_count": 163,
   "metadata": {},
   "outputs": [],
   "source": [
    "#test_labels = test_batches.classes\n",
    "predictions = model.predict(x=X_train, steps=len(y_train), verbose=0)\n",
    "cm = confusion_matrix(y_true=y_train, y_pred=predictions.argmax(axis=1))"
   ]
  },
  {
   "cell_type": "code",
   "execution_count": 164,
   "metadata": {},
   "outputs": [
    {
     "name": "stdout",
     "output_type": "stream",
     "text": [
      "Confusion matrix, without normalization\n",
      "[[151   0   1  22]\n",
      " [ 13  97  14  25]\n",
      " [  0   0 193   0]\n",
      " [  0   0   0 184]]\n"
     ]
    },
    {
     "data": {
      "image/png": "[encoded data removed]",
      "text/plain": [
       "<Figure size 640x480 with 2 Axes>"
      ]
     },
     "metadata": {},
     "output_type": "display_data"
    }
   ],
   "source": [
    "import itertools\n",
    "cm_plot_labels = ['gli', 'men', 'notu', 'pit']\n",
    "plot_confusion_matrix(cm=cm, classes= cm_plot_labels , title='Confusion Matrix')"
   ]
  },
  {
   "cell_type": "code",
   "execution_count": 165,
   "metadata": {},
   "outputs": [
    {
     "name": "stdout",
     "output_type": "stream",
     "text": [
      "              precision    recall  f1-score   support\n",
      "\n",
      "           1       0.92      0.87      0.89       174\n",
      "           2       1.00      0.65      0.79       149\n",
      "           3       0.93      1.00      0.96       193\n",
      "           4       0.80      1.00      0.89       184\n",
      "\n",
      "    accuracy                           0.89       700\n",
      "   macro avg       0.91      0.88      0.88       700\n",
      "weighted avg       0.91      0.89      0.89       700\n",
      "\n"
     ]
    }
   ],
   "source": [
    "from sklearn.metrics import classification_report \n",
    "print(classification_report(y_train,predictions.argmax(axis=1)))"
   ]
  },
  {
   "cell_type": "code",
   "execution_count": 182,
   "metadata": {},
   "outputs": [
    {
     "name": "stdout",
     "output_type": "stream",
     "text": [
      "Model: \"model_4\"\n",
      "_________________________________________________________________\n",
      " Layer (type)                Output Shape              Param #   \n",
      "=================================================================\n",
      " input_5 (InputLayer)        [(None, 240, 240, 3)]     0         \n",
      "                                                                 \n",
      " zero_padding2d_4 (ZeroPadd  (None, 244, 244, 3)       0         \n",
      " ing2D)                                                          \n",
      "                                                                 \n",
      " conv2d_4 (Conv2D)           (None, 238, 238, 32)      4736      \n",
      "                                                                 \n",
      " bn0 (BatchNormalization)    (None, 238, 238, 32)      128       \n",
      "                                                                 \n",
      " activation_4 (Activation)   (None, 238, 238, 32)      0         \n",
      "                                                                 \n",
      " max_pooling2d_8 (MaxPoolin  (None, 59, 59, 32)        0         \n",
      " g2D)                                                            \n",
      "                                                                 \n",
      " max_pooling2d_9 (MaxPoolin  (None, 14, 14, 32)        0         \n",
      " g2D)                                                            \n",
      "                                                                 \n",
      " flatten_4 (Flatten)         (None, 6272)              0         \n",
      "                                                                 \n",
      " dense_4 (Dense)             (None, 5)                 31365     \n",
      "                                                                 \n",
      "=================================================================\n",
      "Total params: 36229 (141.52 KB)\n",
      "Trainable params: 36165 (141.27 KB)\n",
      "Non-trainable params: 64 (256.00 Byte)\n",
      "_________________________________________________________________\n"
     ]
    }
   ],
   "source": [
    "import os.path\n",
    "#model.save('braintumor1000.h5')\n",
    "from tensorflow.keras.models import load_model\n",
    "new_model=load_model('braintumor1500.h5')\n",
    "new_model.summary()"
   ]
  },
  {
   "cell_type": "code",
   "execution_count": 183,
   "metadata": {},
   "outputs": [
    {
     "data": {
      "text/plain": [
       "[array([[[[-3.02328467e-02, -1.16962896e-04,  6.13968782e-02, ...,\n",
       "            6.91727847e-02, -6.24278970e-02,  7.81736597e-02],\n",
       "          [-1.05529036e-02,  2.97260024e-02,  1.06561489e-01, ...,\n",
       "            2.17085592e-02, -4.99042980e-02, -3.15286452e-03],\n",
       "          [-2.60860082e-02, -5.45336772e-03,  7.66401589e-02, ...,\n",
       "            4.67852280e-02, -1.09574357e-02,  4.43873517e-02]],\n",
       " \n",
       "         [[-2.57380828e-02,  8.54150951e-02, -2.04119775e-02, ...,\n",
       "            2.41969042e-02,  3.19078006e-02,  3.84696350e-02],\n",
       "          [-4.01921496e-02,  6.40914291e-02, -3.11410800e-03, ...,\n",
       "            3.46377194e-02, -1.07183326e-02,  5.45171238e-02],\n",
       "          [ 2.56082695e-02,  7.63891079e-03,  1.85120795e-02, ...,\n",
       "            1.76648237e-02,  6.98103709e-03,  2.64725480e-02]],\n",
       " \n",
       "         [[ 1.10294968e-02,  1.05077364e-01,  3.49822640e-02, ...,\n",
       "           -2.57025454e-02, -1.37478273e-04,  6.59300685e-02],\n",
       "          [-6.17296398e-02,  8.93790722e-02, -7.67733000e-05, ...,\n",
       "            2.28061248e-02, -5.44655994e-02,  5.87428845e-02],\n",
       "          [-1.78852361e-02,  7.02245608e-02,  8.96432158e-03, ...,\n",
       "            2.74946596e-02, -1.09742191e-02, -1.78798400e-02]],\n",
       " \n",
       "         ...,\n",
       " \n",
       "         [[-5.39167821e-02,  2.28933096e-02,  6.98031904e-03, ...,\n",
       "           -1.17194921e-01,  6.37358651e-02, -4.13962640e-02],\n",
       "          [-7.13009536e-02, -1.44854235e-02, -3.54315080e-02, ...,\n",
       "           -5.40824123e-02,  3.85190099e-02,  3.98985634e-04],\n",
       "          [-7.41552413e-02,  1.76170096e-02,  2.53690146e-02, ...,\n",
       "           -1.29719302e-01, -2.31907926e-02,  4.69617359e-02]],\n",
       " \n",
       "         [[ 1.65743995e-02,  1.13478824e-02,  4.26277295e-02, ...,\n",
       "           -8.29121843e-02, -7.81110395e-03,  5.39724082e-02],\n",
       "          [-5.38667217e-02,  5.36855273e-02, -4.93034348e-03, ...,\n",
       "           -9.11730602e-02, -2.34354883e-02,  1.60611961e-02],\n",
       "          [-8.92325118e-02, -5.59581146e-02,  2.15306897e-02, ...,\n",
       "           -7.67213628e-02, -4.01966199e-02,  6.82173111e-03]],\n",
       " \n",
       "         [[-8.01269040e-02, -3.63002787e-03,  3.50439013e-03, ...,\n",
       "           -9.41446126e-02, -1.50810601e-02,  3.81132998e-02],\n",
       "          [-7.66969323e-02, -2.74175946e-02, -4.54094596e-02, ...,\n",
       "           -1.25685841e-01,  2.71011684e-02,  8.99894759e-02],\n",
       "          [ 2.85605658e-02, -5.75344125e-03, -3.45251895e-02, ...,\n",
       "           -5.30570224e-02, -4.41439636e-02,  5.78821748e-02]]],\n",
       " \n",
       " \n",
       "        [[[-3.22791450e-02,  3.47368941e-02,  1.15852669e-01, ...,\n",
       "            1.71280671e-02, -4.15748879e-02, -1.43974172e-02],\n",
       "          [-1.12473397e-02, -3.34602571e-03,  6.55016005e-02, ...,\n",
       "            5.87173812e-02, -3.78048979e-02, -6.65515801e-03],\n",
       "          [ 6.30689189e-02,  5.43973595e-03,  9.67453718e-02, ...,\n",
       "            1.01646699e-03, -1.05173495e-02, -2.76062079e-02]],\n",
       " \n",
       "         [[ 9.99261532e-03,  8.11962187e-02, -2.23643649e-02, ...,\n",
       "           -2.83074565e-02,  5.03924042e-02,  9.22051165e-03],\n",
       "          [ 2.23989468e-02,  7.90648311e-02,  2.02948377e-02, ...,\n",
       "            1.51040417e-03,  3.65557075e-02,  5.02321273e-02],\n",
       "          [-2.99232993e-02,  3.32245044e-03, -3.16353738e-02, ...,\n",
       "           -2.90775318e-02,  1.72063708e-02, -2.45497073e-03]],\n",
       " \n",
       "         [[-5.22305779e-02,  3.66288535e-02, -6.22575916e-02, ...,\n",
       "           -3.21127661e-02, -5.75011875e-03, -5.98065853e-02],\n",
       "          [ 2.25940365e-02,  3.56899872e-02, -5.15132695e-02, ...,\n",
       "            2.78496859e-03, -4.23354981e-03,  3.43228430e-02],\n",
       "          [-1.11600058e-02,  9.46085379e-02,  1.06817978e-02, ...,\n",
       "           -2.33215354e-02, -3.17229293e-02,  2.56542061e-02]],\n",
       " \n",
       "         ...,\n",
       " \n",
       "         [[-2.97598913e-02,  5.34233302e-02, -5.84048107e-02, ...,\n",
       "           -1.09104827e-01, -4.73717116e-02, -1.83747318e-02],\n",
       "          [-3.63421603e-03, -3.02674174e-02, -8.28974470e-02, ...,\n",
       "           -1.85179971e-02,  4.24910374e-02, -4.86592986e-02],\n",
       "          [ 2.63952115e-03, -4.91051469e-03, -8.47275108e-02, ...,\n",
       "           -7.57804960e-02,  2.13637333e-02,  4.47874181e-02]],\n",
       " \n",
       "         [[-3.63237970e-02,  2.39801165e-02, -2.94326507e-02, ...,\n",
       "           -8.88028219e-02, -5.36616072e-02,  6.25660121e-02],\n",
       "          [-3.91127057e-02, -6.60825074e-02,  1.65032726e-02, ...,\n",
       "           -9.55695361e-02,  3.15260924e-02,  1.24656688e-02],\n",
       "          [ 3.20047997e-02,  3.91054936e-02, -7.06446916e-02, ...,\n",
       "           -8.70062411e-03,  1.25865359e-02,  5.28750084e-02]],\n",
       " \n",
       "         [[ 7.64807174e-03, -4.35439721e-02,  1.76928751e-02, ...,\n",
       "           -1.05425298e-01,  7.03914138e-03,  5.97364781e-03],\n",
       "          [-4.76511866e-02, -3.12320720e-02,  2.50230171e-02, ...,\n",
       "           -6.37757257e-02, -2.45771953e-04,  7.11652450e-04],\n",
       "          [-5.49934879e-02, -3.89089249e-02, -4.46459725e-02, ...,\n",
       "           -8.51675570e-02, -3.90676036e-02,  1.86050963e-02]]],\n",
       " \n",
       " \n",
       "        [[[ 1.75977498e-02,  6.55525327e-02, -6.04620343e-03, ...,\n",
       "            3.98102291e-02, -2.85725910e-02, -2.30961461e-02],\n",
       "          [ 1.48781491e-02, -1.07282130e-02,  6.45118579e-02, ...,\n",
       "            2.65392512e-02, -5.01314998e-02, -1.59701444e-02],\n",
       "          [ 5.28888486e-04,  5.50295226e-02,  1.96682122e-02, ...,\n",
       "            5.07040359e-02, -2.31913161e-02,  4.83820774e-02]],\n",
       " \n",
       "         [[-6.25562330e-04,  6.12840988e-02, -9.87648126e-03, ...,\n",
       "           -3.22664715e-02,  4.53681126e-02,  8.02891925e-02],\n",
       "          [ 5.33282384e-03,  8.19372665e-03, -4.34048921e-02, ...,\n",
       "            7.96906184e-03, -1.13161700e-02, -2.98778731e-02],\n",
       "          [-4.51472141e-02, -8.26187152e-03, -4.07732911e-02, ...,\n",
       "           -4.70965356e-02,  5.28931879e-02, -2.25981511e-03]],\n",
       " \n",
       "         [[-4.50651981e-02, -1.30534905e-03,  1.27845667e-02, ...,\n",
       "            4.28514928e-03, -6.31512031e-02,  5.79014942e-02],\n",
       "          [-2.45451126e-02, -2.08928203e-03, -5.77933267e-02, ...,\n",
       "            3.74953859e-02,  2.00782772e-02, -4.67026494e-02],\n",
       "          [-2.29458176e-02,  3.27153727e-02,  6.29470591e-03, ...,\n",
       "           -8.54663178e-03, -4.46753204e-02,  1.87578350e-02]],\n",
       " \n",
       "         ...,\n",
       " \n",
       "         [[-5.40986769e-02,  2.12806631e-02, -4.24465612e-02, ...,\n",
       "           -9.47787166e-02,  1.58651527e-02,  2.99621969e-02],\n",
       "          [-1.99188795e-02,  2.55870987e-02, -9.49545652e-02, ...,\n",
       "           -7.89660215e-03,  1.78872496e-02, -3.48266326e-02],\n",
       "          [ 1.25224926e-02,  3.06858756e-02, -5.67242131e-02, ...,\n",
       "           -6.78988248e-02,  2.05584541e-02, -2.57407334e-02]],\n",
       " \n",
       "         [[-6.73172995e-02,  4.69414480e-02, -8.73188674e-03, ...,\n",
       "           -7.23873824e-02, -3.52911577e-02, -2.20373599e-03],\n",
       "          [-5.16909398e-02,  1.70847327e-02, -1.93863772e-02, ...,\n",
       "           -3.46571468e-02,  1.94600858e-02,  3.88285369e-02],\n",
       "          [-7.72294775e-02, -3.07480227e-02, -7.90671781e-02, ...,\n",
       "           -1.15098180e-02,  1.90133657e-02,  8.67717061e-03]],\n",
       " \n",
       "         [[-9.16792303e-02, -5.54643646e-02,  3.90251651e-02, ...,\n",
       "           -2.43755952e-02,  1.11815324e-02,  7.36761987e-02],\n",
       "          [-5.03561012e-02,  3.10544744e-02, -7.23802745e-02, ...,\n",
       "           -2.39009187e-02, -1.92269497e-03,  2.56589949e-02],\n",
       "          [-1.28259033e-01,  2.70215049e-03,  6.94914896e-04, ...,\n",
       "            3.32274437e-02, -4.34553884e-02,  7.56400973e-02]]],\n",
       " \n",
       " \n",
       "        ...,\n",
       " \n",
       " \n",
       "        [[[-3.71673591e-02,  1.47128375e-02, -7.66997933e-02, ...,\n",
       "            1.88704822e-02, -7.79319480e-02,  7.23028630e-02],\n",
       "          [-1.04706818e-02, -3.99113260e-02, -1.01835683e-01, ...,\n",
       "            4.54503149e-02, -1.08100422e-01,  1.19265029e-02],\n",
       "          [-1.59031358e-02, -5.13431802e-02, -7.97013268e-02, ...,\n",
       "           -1.38889495e-02, -3.38100679e-02,  2.28263475e-02]],\n",
       " \n",
       "         [[ 1.10614505e-02, -6.06700964e-02,  4.02344838e-02, ...,\n",
       "           -6.43157363e-02, -8.41998756e-02,  1.47703709e-02],\n",
       "          [ 3.68006714e-02, -3.95359471e-02, -6.64793104e-02, ...,\n",
       "           -3.89528275e-02,  3.39993252e-03,  2.93040238e-02],\n",
       "          [ 3.05368043e-02,  1.13129988e-02,  1.96208898e-02, ...,\n",
       "           -4.02544811e-02, -2.54973769e-02,  6.46230578e-02]],\n",
       " \n",
       "         [[ 4.41396162e-02,  3.57492156e-02,  6.60559833e-02, ...,\n",
       "            1.31923147e-02, -2.20764279e-02,  6.93813786e-02],\n",
       "          [-6.53255582e-02,  1.30961277e-02,  6.27289265e-02, ...,\n",
       "           -2.49626935e-02,  1.04294289e-02,  3.01908329e-03],\n",
       "          [ 2.69006100e-02, -6.31033108e-02,  3.99186574e-02, ...,\n",
       "           -5.55775017e-02, -6.68009147e-02,  7.25614429e-02]],\n",
       " \n",
       "         ...,\n",
       " \n",
       "         [[-2.35558599e-02,  6.24295026e-02,  1.07474439e-02, ...,\n",
       "            7.11882161e-03, -4.35879417e-02, -5.27667701e-02],\n",
       "          [-6.24872744e-02,  5.66666834e-02,  4.70805131e-02, ...,\n",
       "           -5.41085564e-02, -5.11187576e-02,  2.01404039e-02],\n",
       "          [-4.25443873e-02,  7.93591235e-03,  6.08120067e-03, ...,\n",
       "           -4.48684767e-02, -6.79349005e-02,  6.47719344e-03]],\n",
       " \n",
       "         [[-6.38438435e-03,  5.28473184e-02, -4.05707359e-02, ...,\n",
       "            3.71988155e-02, -3.33852172e-02,  2.03357730e-02],\n",
       "          [-2.74755172e-02,  8.90176184e-03, -5.89529686e-02, ...,\n",
       "           -3.32548693e-02, -6.59457147e-02,  1.74908023e-02],\n",
       "          [-5.84254228e-02,  3.21877226e-02, -2.74629518e-02, ...,\n",
       "           -4.22361940e-02, -2.45040059e-02,  3.12536545e-02]],\n",
       " \n",
       "         [[-7.90613666e-02,  7.83043206e-02, -5.32041825e-02, ...,\n",
       "            1.40897287e-02, -5.54614551e-02, -1.95598025e-02],\n",
       "          [-9.85757858e-02,  7.25785717e-02,  1.63065884e-02, ...,\n",
       "           -3.04002482e-02, -7.54203051e-02,  7.55386800e-02],\n",
       "          [ 8.84990487e-03,  4.52154037e-03,  2.08777059e-02, ...,\n",
       "           -2.01808941e-02, -8.94179344e-02,  2.88381055e-02]]],\n",
       " \n",
       " \n",
       "        [[[ 6.11809967e-03,  1.84601154e-02, -9.01435763e-02, ...,\n",
       "            8.09088163e-03, -7.71586830e-03, -2.72741541e-02],\n",
       "          [-6.09303191e-02, -4.29169908e-02, -3.62180844e-02, ...,\n",
       "           -2.95583978e-02, -2.52401195e-02,  2.31902283e-02],\n",
       "          [ 4.59546084e-03, -3.76155749e-02, -6.88614547e-02, ...,\n",
       "            5.30351698e-02, -1.11942232e-01,  6.65828735e-02]],\n",
       " \n",
       "         [[ 5.60874492e-02,  2.63407659e-02, -1.52192544e-02, ...,\n",
       "           -1.92086473e-02,  8.28988198e-03,  3.67114693e-02],\n",
       "          [ 6.96399733e-02,  3.12407482e-02, -6.03145175e-02, ...,\n",
       "           -2.50441674e-02, -3.58368121e-02, -1.25784650e-02],\n",
       "          [-1.54214315e-02, -2.95366272e-02,  4.66702841e-02, ...,\n",
       "            1.37845729e-03,  2.52836593e-03,  7.68944547e-02]],\n",
       " \n",
       "         [[-3.93112116e-02, -3.71500626e-02,  7.47361556e-02, ...,\n",
       "           -4.92861159e-02, -7.29651377e-02, -1.19316457e-02],\n",
       "          [ 3.93257439e-02, -2.70793755e-02,  3.05646043e-02, ...,\n",
       "            1.57536520e-03, -6.82597831e-02, -4.42178249e-02],\n",
       "          [-1.62771170e-03,  1.41503457e-02,  6.27062097e-03, ...,\n",
       "           -6.58797845e-02, -6.20478541e-02,  5.73378801e-02]],\n",
       " \n",
       "         ...,\n",
       " \n",
       "         [[ 1.15221078e-02, -6.34586019e-03,  5.48202209e-02, ...,\n",
       "           -2.01695431e-02,  3.91645133e-02,  6.27142265e-02],\n",
       "          [-1.97027996e-02,  9.18989182e-02, -1.54924560e-02, ...,\n",
       "           -5.30966446e-02, -3.14674452e-02, -2.69303694e-02],\n",
       "          [-3.31780873e-04,  8.85960758e-02,  9.69030801e-03, ...,\n",
       "           -4.38044108e-02,  3.02801244e-02, -2.71742214e-02]],\n",
       " \n",
       "         [[-6.14473224e-02,  5.26082106e-02,  6.45220801e-02, ...,\n",
       "           -2.25558169e-02, -5.25098816e-02, -3.36421877e-02],\n",
       "          [-1.83464438e-02,  6.94591925e-02,  4.14652564e-02, ...,\n",
       "           -1.89353880e-02, -2.72001736e-02,  6.04047701e-02],\n",
       "          [-4.52360734e-02,  1.36942174e-02,  1.38849195e-03, ...,\n",
       "            6.35452271e-02, -5.93189336e-02,  4.19229232e-02]],\n",
       " \n",
       "         [[-6.89725727e-02,  1.37923947e-02, -4.90035526e-02, ...,\n",
       "           -2.89624091e-02, -4.46089543e-02, -1.47579974e-02],\n",
       "          [-3.55225392e-02,  6.70818686e-02, -5.92133179e-02, ...,\n",
       "           -7.13128299e-02, -1.18420020e-01, -3.75114679e-02],\n",
       "          [-3.93735617e-02,  1.02180973e-01, -8.81594606e-04, ...,\n",
       "            8.09751172e-03, -6.38379529e-02,  7.48622641e-02]]],\n",
       " \n",
       " \n",
       "        [[[-1.16126545e-01,  4.64318097e-02, -1.69023275e-02, ...,\n",
       "           -3.69082987e-02, -7.93442428e-02,  8.00182372e-02],\n",
       "          [-7.20172375e-02,  2.12561153e-02, -7.50513077e-02, ...,\n",
       "            3.77697055e-03, -8.83630067e-02,  5.85652888e-02],\n",
       "          [-1.18798599e-01,  5.24498932e-02, -2.50306968e-02, ...,\n",
       "           -4.96979579e-02,  1.64642110e-02,  4.69330624e-02]],\n",
       " \n",
       "         [[-1.45220356e-02,  3.83587461e-03,  6.75135851e-02, ...,\n",
       "           -7.38623887e-02, -1.88659802e-02,  4.65388224e-02],\n",
       "          [-3.52442302e-02, -2.68183667e-02,  2.29450595e-02, ...,\n",
       "           -1.19735086e-02, -3.49199958e-02,  9.46649835e-02],\n",
       "          [ 5.59970215e-02, -1.03725921e-02,  6.94303066e-02, ...,\n",
       "           -4.29398008e-02, -8.27261209e-02,  6.33405298e-02]],\n",
       " \n",
       "         [[ 3.21355858e-03,  8.45015049e-03, -6.09393269e-02, ...,\n",
       "           -3.80048854e-03, -1.34273559e-01,  1.34642309e-04],\n",
       "          [-4.65629809e-02,  2.64544450e-02, -2.22192612e-02, ...,\n",
       "           -6.15858398e-02, -3.19351628e-02,  5.51937707e-02],\n",
       "          [-1.59224903e-03,  2.14443635e-02, -2.23121773e-02, ...,\n",
       "           -8.23987499e-02, -9.08165947e-02,  7.08381599e-03]],\n",
       " \n",
       "         ...,\n",
       " \n",
       "         [[-7.42184520e-02,  6.24532253e-02,  1.33523075e-02, ...,\n",
       "            4.63699136e-04, -4.15546400e-03,  3.84417437e-02],\n",
       "          [-6.57051131e-02,  2.90450063e-02, -4.99513038e-02, ...,\n",
       "           -3.69883887e-02, -8.12044591e-02,  9.38713104e-02],\n",
       "          [-3.09182219e-02,  5.03444709e-02, -1.04496991e-02, ...,\n",
       "           -3.57760116e-02, -5.22540361e-02,  6.30365238e-02]],\n",
       " \n",
       "         [[-5.41877039e-02,  9.32632908e-02, -3.42082158e-02, ...,\n",
       "            2.93009263e-02, -1.44161852e-02, -1.29632046e-02],\n",
       "          [-2.85416413e-02,  4.45530638e-02,  1.40616242e-02, ...,\n",
       "           -1.26781482e-02, -7.09555820e-02,  5.01843207e-02],\n",
       "          [-6.71188533e-02,  7.93318450e-02,  5.54988310e-02, ...,\n",
       "            5.48362173e-02,  3.01330481e-02,  3.90050486e-02]],\n",
       " \n",
       "         [[ 2.98134796e-03,  1.13436788e-01,  3.53254713e-02, ...,\n",
       "           -4.79405299e-02, -1.44641861e-01,  7.61330947e-02],\n",
       "          [-7.50863031e-02,  8.04776549e-02, -6.09613955e-02, ...,\n",
       "            3.02616637e-02, -1.06160127e-01,  4.97468784e-02],\n",
       "          [-1.69094000e-02,  3.62494104e-02, -2.75387592e-03, ...,\n",
       "            2.91927457e-02, -6.92082271e-02,  4.49360581e-03]]]],\n",
       "       dtype=float32),\n",
       " array([ 0.06785022,  0.01404931,  0.06593228,  0.01925922, -0.03855784,\n",
       "        -0.05418847, -0.09410609,  0.02677757, -0.02499816, -0.0220458 ,\n",
       "         0.05508923, -0.01705041,  0.04017772,  0.04124441,  0.09794822,\n",
       "        -0.05231106, -0.04472739, -0.0953291 , -0.02306516, -0.01366518,\n",
       "        -0.04459045,  0.07072227,  0.06129802,  0.04195035,  0.01538768,\n",
       "         0.00481015,  0.01932804, -0.0879616 , -0.02046476, -0.03919826,\n",
       "         0.02215133,  0.01774517], dtype=float32),\n",
       " array([0.69639325, 0.56425846, 0.84767157, 0.7965336 , 0.75396174,\n",
       "        0.79656184, 0.52838695, 0.8145191 , 0.7544752 , 0.6865757 ,\n",
       "        0.5285618 , 0.60949546, 0.7367781 , 0.8668144 , 0.7245925 ,\n",
       "        0.7861302 , 0.80171627, 0.7693065 , 0.6443218 , 0.5565749 ,\n",
       "        0.7922158 , 0.7494844 , 0.77970344, 0.56804496, 0.7970866 ,\n",
       "        0.7847918 , 0.60006857, 0.6500869 , 0.5721569 , 0.77427113,\n",
       "        0.7818034 , 0.6044696 ], dtype=float32),\n",
       " array([-0.2867575 , -0.39513582, -0.22512889, -0.2221494 , -0.15748022,\n",
       "        -0.25274137, -0.44682524, -0.21851084, -0.14472657, -0.36901054,\n",
       "        -0.4956396 , -0.40360788, -0.155596  , -0.3561109 , -0.27019963,\n",
       "        -0.23997277, -0.29998606, -0.2453208 , -0.27460244, -0.46696538,\n",
       "        -0.2383964 , -0.20117164, -0.2902679 , -0.39795953, -0.28904817,\n",
       "        -0.33896047, -0.31471574, -0.38498136, -0.36592448, -0.33124766,\n",
       "        -0.3240548 , -0.30730537], dtype=float32),\n",
       " array([-0.81900007,  0.7116196 , -0.28490862, -1.0244887 ,  1.0050191 ,\n",
       "        -1.1560378 ,  0.2514321 ,  0.15364486,  1.2274394 ,  0.5187274 ,\n",
       "         0.76476514,  0.82773995,  1.0448768 , -0.02562683, -0.6373768 ,\n",
       "        -0.93089217, -0.8433185 , -0.90028447,  1.2006686 ,  0.7304636 ,\n",
       "         0.5423066 ,  1.4095681 , -0.8473363 ,  0.9506602 ,  0.24044953,\n",
       "        -0.42994416,  0.84821874,  0.25671908,  0.7076135 , -1.0378495 ,\n",
       "        -1.0033284 ,  0.79685515], dtype=float32),\n",
       " array([0.3015576 , 0.18983905, 0.05624742, 0.409132  , 0.3937706 ,\n",
       "        0.4684496 , 0.04802582, 0.01707953, 0.58121055, 0.12004306,\n",
       "        0.18937382, 0.28806832, 0.37898806, 0.05938004, 0.2083247 ,\n",
       "        0.28411382, 0.35440415, 0.24031559, 0.55733204, 0.20525643,\n",
       "        0.19885722, 0.6813843 , 0.30458885, 0.30923623, 0.08263413,\n",
       "        0.18263172, 0.25888914, 0.07027574, 0.19848843, 0.41139993,\n",
       "        0.40048465, 0.22677566], dtype=float32),\n",
       " array([[ 2.1371324e-02,  2.8275466e-02, -1.3320632e-02, -1.3396329e-02,\n",
       "         -4.8839422e-03],\n",
       "        [-1.0139931e-01,  1.7469645e-02, -4.8265032e-02, -3.6441736e-02,\n",
       "          1.3865089e-02],\n",
       "        [-3.9731741e-01,  1.2002484e-02, -3.1598788e-02, -4.0323515e-03,\n",
       "          2.8612880e-02],\n",
       "        ...,\n",
       "        [ 1.9687811e-02, -9.2204725e-03,  2.6768642e-02,  3.3535969e-02,\n",
       "         -2.6859170e-02],\n",
       "        [-1.8811401e-02,  3.9294146e-02,  5.7861498e-03, -2.1813732e-02,\n",
       "         -5.2770425e-02],\n",
       "        [ 1.5954638e-02, -3.8127296e-04,  9.6234091e-04, -1.7918086e-02,\n",
       "         -1.8348892e-03]], dtype=float32),\n",
       " array([-0.00708529,  0.0027625 ,  0.01835304, -0.01905554, -0.0023885 ],\n",
       "       dtype=float32)]"
      ]
     },
     "execution_count": 183,
     "metadata": {},
     "output_type": "execute_result"
    }
   ],
   "source": [
    "new_model.get_weights()"
   ]
  },
  {
   "cell_type": "code",
   "execution_count": 184,
   "metadata": {},
   "outputs": [
    {
     "data": {
      "text/plain": [
       "<keras.src.optimizers.adam.Adam at 0x186fed40990>"
      ]
     },
     "execution_count": 184,
     "metadata": {},
     "output_type": "execute_result"
    }
   ],
   "source": [
    "new_model.optimizer"
   ]
  },
  {
   "cell_type": "code",
   "execution_count": 190,
   "metadata": {},
   "outputs": [
    {
     "name": "stdout",
     "output_type": "stream",
     "text": [
      "Confusion matrix, without normalization\n",
      "[[20  0  2 12]\n",
      " [11 12  2  8]\n",
      " [ 0  0 47  1]\n",
      " [ 0  0  0 35]]\n"
     ]
    },
    {
     "data": {
      "image/png": "[encoded data removed]",
      "text/plain": [
       "<Figure size 640x480 with 2 Axes>"
      ]
     },
     "metadata": {},
     "output_type": "display_data"
    }
   ],
   "source": [
    "predictions = model.predict(x=X_test, steps=len(y_test), verbose=0)\n",
    "cm = confusion_matrix(y_true=y_test, y_pred=predictions.argmax(axis=1))\n",
    "cm_plot_labels = ['gli', 'men', 'notu', 'pit']\n",
    "plot_confusion_matrix(cm=cm, classes= cm_plot_labels , title='Confusion Matrix')"
   ]
  },
  {
   "cell_type": "code",
   "execution_count": 186,
   "metadata": {},
   "outputs": [
    {
     "name": "stdout",
     "output_type": "stream",
     "text": [
      "              precision    recall  f1-score   support\n",
      "\n",
      "           1       0.94      0.88      0.91        34\n",
      "           2       0.85      1.00      0.92        33\n",
      "           3       1.00      0.96      0.98        48\n",
      "           4       0.97      0.91      0.94        35\n",
      "\n",
      "    accuracy                           0.94       150\n",
      "   macro avg       0.94      0.94      0.94       150\n",
      "weighted avg       0.94      0.94      0.94       150\n",
      "\n",
      "0.94\n"
     ]
    }
   ],
   "source": [
    "from sklearn.metrics import classification_report \n",
    "print(classification_report(y_test,predictions.argmax(axis=1)))\n",
    "from sklearn.metrics import accuracy_score\n",
    "print(accuracy_score(y_test,predictions.argmax(axis=1)))"
   ]
  },
  {
   "cell_type": "code",
   "execution_count": 191,
   "metadata": {},
   "outputs": [
    {
     "name": "stdout",
     "output_type": "stream",
     "text": [
      "Collecting FastAPI\n",
      "  Obtaining dependency information for FastAPI from https://files.pythonhosted.org/packages/f3/4f/0ce34195b63240b6693086496c9bab4ef23999112184399a3e88854c7674/fastapi-0.104.1-py3-none-any.whl.metadata\n",
      "  Downloading fastapi-0.104.1-py3-none-any.whl.metadata (24 kB)\n",
      "Collecting anyio<4.0.0,>=3.7.1 (from FastAPI)\n",
      "  Obtaining dependency information for anyio<4.0.0,>=3.7.1 from https://files.pythonhosted.org/packages/19/24/44299477fe7dcc9cb58d0a57d5a7588d6af2ff403fdd2d47a246c91a3246/anyio-3.7.1-py3-none-any.whl.metadata\n",
      "  Downloading anyio-3.7.1-py3-none-any.whl.metadata (4.7 kB)\n",
      "Requirement already satisfied: pydantic!=1.8,!=1.8.1,!=2.0.0,!=2.0.1,!=2.1.0,<3.0.0,>=1.7.4 in c:\\users\\gfox6\\anaconda3\\lib\\site-packages (from FastAPI) (1.10.8)\n",
      "Collecting starlette<0.28.0,>=0.27.0 (from FastAPI)\n",
      "  Obtaining dependency information for starlette<0.28.0,>=0.27.0 from https://files.pythonhosted.org/packages/58/f8/e2cca22387965584a409795913b774235752be4176d276714e15e1a58884/starlette-0.27.0-py3-none-any.whl.metadata\n",
      "  Downloading starlette-0.27.0-py3-none-any.whl.metadata (5.8 kB)\n",
      "Collecting typing-extensions>=4.8.0 (from FastAPI)\n",
      "  Obtaining dependency information for typing-extensions>=4.8.0 from https://files.pythonhosted.org/packages/24/21/7d397a4b7934ff4028987914ac1044d3b7d52712f30e2ac7a2ae5bc86dd0/typing_extensions-4.8.0-py3-none-any.whl.metadata\n",
      "  Downloading typing_extensions-4.8.0-py3-none-any.whl.metadata (3.0 kB)\n",
      "Requirement already satisfied: idna>=2.8 in c:\\users\\gfox6\\anaconda3\\lib\\site-packages (from anyio<4.0.0,>=3.7.1->FastAPI) (3.4)\n",
      "Requirement already satisfied: sniffio>=1.1 in c:\\users\\gfox6\\anaconda3\\lib\\site-packages (from anyio<4.0.0,>=3.7.1->FastAPI) (1.2.0)\n",
      "Downloading fastapi-0.104.1-py3-none-any.whl (92 kB)\n",
      "   ---------------------------------------- 0.0/92.9 kB ? eta -:--:--\n",
      "   ---------------------------------------- 92.9/92.9 kB 2.6 MB/s eta 0:00:00\n",
      "Downloading anyio-3.7.1-py3-none-any.whl (80 kB)\n",
      "   ---------------------------------------- 0.0/80.9 kB ? eta -:--:--\n",
      "   ---------------------------------------- 80.9/80.9 kB 4.4 MB/s eta 0:00:00\n",
      "Downloading starlette-0.27.0-py3-none-any.whl (66 kB)\n",
      "   ---------------------------------------- 0.0/67.0 kB ? eta -:--:--\n",
      "   ---------------------------------------- 67.0/67.0 kB 3.5 MB/s eta 0:00:00\n",
      "Downloading typing_extensions-4.8.0-py3-none-any.whl (31 kB)\n",
      "Installing collected packages: typing-extensions, anyio, starlette, FastAPI\n",
      "  Attempting uninstall: typing-extensions\n",
      "    Found existing installation: typing_extensions 4.7.1\n",
      "    Uninstalling typing_extensions-4.7.1:\n",
      "      Successfully uninstalled typing_extensions-4.7.1\n",
      "  Attempting uninstall: anyio\n",
      "    Found existing installation: anyio 3.5.0\n",
      "    Uninstalling anyio-3.5.0:\n",
      "      Successfully uninstalled anyio-3.5.0\n",
      "Successfully installed FastAPI-0.104.1 anyio-3.7.1 starlette-0.27.0 typing-extensions-4.8.0\n"
     ]
    }
   ],
   "source": [
    "!pip install FastAPI"
   ]
  },
  {
   "cell_type": "code",
   "execution_count": null,
   "metadata": {},
   "outputs": [],
   "source": []
  },
  {
   "cell_type": "code",
   "execution_count": null,
   "metadata": {},
   "outputs": [],
   "source": []
  }
 ],
 "metadata": {
  "colab": {
   "provenance": []
  },
  "kernelspec": {
   "display_name": "Python 3 (ipykernel)",
   "language": "python",
   "name": "python3"
  },
  "language_info": {
   "codemirror_mode": {
    "name": "ipython",
    "version": 3
   },
   "file_extension": ".py",
   "mimetype": "text/x-python",
   "name": "python",
   "nbconvert_exporter": "python",
   "pygments_lexer": "ipython3",
   "version": "3.11.5"
  }
 },
 "nbformat": 4,
 "nbformat_minor": 1
}
